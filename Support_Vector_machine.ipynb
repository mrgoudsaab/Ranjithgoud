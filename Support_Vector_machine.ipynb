{
  "nbformat": 4,
  "nbformat_minor": 0,
  "metadata": {
    "colab": {
      "provenance": [],
      "mount_file_id": "1FmHWiYNHmmwz_QVN5EIjndqLaH52qCRx",
      "authorship_tag": "ABX9TyN0w1sBdhNeUD+TSSYslApf",
      "include_colab_link": true
    },
    "kernelspec": {
      "name": "python3",
      "display_name": "Python 3"
    },
    "language_info": {
      "name": "python"
    }
  },
  "cells": [
    {
      "cell_type": "markdown",
      "metadata": {
        "id": "view-in-github",
        "colab_type": "text"
      },
      "source": [
        "<a href=\"https://colab.research.google.com/github/mrgoudsaab/Ranjithgoud/blob/main/Support_Vector_machine.ipynb\" target=\"_parent\"><img src=\"https://colab.research.google.com/assets/colab-badge.svg\" alt=\"Open In Colab\"/></a>"
      ]
    },
    {
      "cell_type": "code",
      "execution_count": 1,
      "metadata": {
        "id": "LfQHiH67BGV-"
      },
      "outputs": [],
      "source": [
        "# SVM Classification\n",
        "import pandas as pd\n",
        "import numpy as np\n",
        "from sklearn.feature_extraction.text import CountVectorizer, TfidfVectorizer\n",
        "from sklearn.preprocessing import StandardScaler\n",
        "\n",
        "from sklearn import svm\n",
        "from sklearn.svm import SVC\n",
        "from sklearn.model_selection import GridSearchCV\n",
        "from sklearn.metrics import classification_report\n",
        "\n",
        "from sklearn.metrics import accuracy_score, confusion_matrix\n",
        "from sklearn.model_selection import train_test_split, cross_val_score"
      ]
    },
    {
      "cell_type": "code",
      "source": [
        "filename = r'/content/pima-indians-diabetes.data.csv'\n",
        "names = ['preg', 'plas', 'pres', 'skin', 'test', 'mass', 'pedi', 'age', 'class']\n",
        "dataframe = pd.read_csv(filename, names=names)\n",
        "array = dataframe.values\n",
        "X = array[:,0:8]\n",
        "Y = array[:,8]"
      ],
      "metadata": {
        "id": "ONWpw3UbBVPS"
      },
      "execution_count": 2,
      "outputs": []
    },
    {
      "cell_type": "code",
      "source": [
        "# Import necessary libraries\n",
        "import pandas as pd\n",
        "import numpy as np\n",
        "from sklearn.model_selection import train_test_split, GridSearchCV\n",
        "from sklearn.svm import SVC\n",
        "from sklearn.preprocessing import StandardScaler\n",
        "from sklearn.metrics import accuracy_score, confusion_matrix, classification_report\n",
        "\n",
        "# Load the dataset\n",
        "filename = r'/content/pima-indians-diabetes.data.csv'\n",
        "names = ['preg', 'plas', 'pres', 'skin', 'test', 'mass', 'pedi', 'age', 'class']\n",
        "dataframe = pd.read_csv(filename, names=names)\n",
        "\n",
        "# Convert to numpy array\n",
        "array = dataframe.values\n",
        "X = array[:, 0:8]  # Features\n",
        "Y = array[:, 8]    # Target variable\n",
        "\n",
        "# Split dataset into training and testing sets (70% training, 30% testing)\n",
        "X_train, X_test, y_train, y_test = train_test_split(X, Y, test_size=0.3, random_state=42, stratify=Y)\n",
        "\n",
        "# Standardize the feature values (SVM performs better with normalized data)\n",
        "scaler = StandardScaler()\n",
        "X_train = scaler.fit_transform(X_train)\n",
        "X_test = scaler.transform(X_test)\n",
        "\n",
        "# Define the SVM model\n",
        "svc = SVC()\n",
        "\n",
        "# Define the parameter grid for hyperparameter tuning\n",
        "param_grid = {\n",
        "    'C': [0.1, 1, 10],\n",
        "    'gamma': [0.01, 0.1, 1],\n",
        "    'kernel': ['linear', 'rbf']\n",
        "}"
      ],
      "metadata": {
        "id": "QRkfHD5VBYX4"
      },
      "execution_count": 3,
      "outputs": []
    },
    {
      "cell_type": "code",
      "source": [
        "X_train.shape, y_train.shape, X_test.shape, y_test.shape"
      ],
      "metadata": {
        "colab": {
          "base_uri": "https://localhost:8080/"
        },
        "id": "X9Vle_PUIY7y",
        "outputId": "8f2006a5-a5d7-4603-d710-2f26a55bd8f9"
      },
      "execution_count": 4,
      "outputs": [
        {
          "output_type": "execute_result",
          "data": {
            "text/plain": [
              "((537, 8), (537,), (231, 8), (231,))"
            ]
          },
          "metadata": {},
          "execution_count": 4
        }
      ]
    },
    {
      "cell_type": "code",
      "source": [
        "from sklearn.model_selection import GridSearchCV\n",
        "from sklearn.svm import SVC\n",
        "\n",
        "#Define the SVM model\n",
        "svc = SVC()\n",
        "\n",
        "#Define the parameter grid\n",
        "param_grid = {'C': [0.1, 1, 10, 100],\n",
        "              'gamma': [1, 0.1, 0.01, 0.001],\n",
        "              'kernel': ['rbf']\n",
        "              }\n",
        "\n",
        "#Grid search with cross-validation\n",
        "grid_search = GridSearchCV( svc,  param_grid, cv=5)\n",
        "grid_search.fit(X_train, y_train)\n",
        "\n",
        "#Best parameters and best score\n",
        "print(\"Best parameters found: \", grid_search.best_params_)\n",
        "print(\"Best score found: \", grid_search.best_score_)"
      ],
      "metadata": {
        "colab": {
          "base_uri": "https://localhost:8080/"
        },
        "id": "qm0RldnOFL0v",
        "outputId": "beeb1087-83e7-4e2e-8e7f-e95162b04eb1"
      },
      "execution_count": 5,
      "outputs": [
        {
          "output_type": "stream",
          "name": "stdout",
          "text": [
            "Best parameters found:  {'C': 100, 'gamma': 0.001, 'kernel': 'rbf'}\n",
            "Best score found:  0.7820699203876774\n"
          ]
        }
      ]
    },
    {
      "cell_type": "code",
      "source": [
        "##########Regression\n",
        "import pandas as pd\n",
        "import numpy as np\n",
        "from sklearn.model_selection import train_test_split,GridSearchCV\n",
        "from sklearn.svm import SVR\n",
        "from sklearn.metrics import mean_squared_error\n",
        "\n",
        "#Load the dataset\n",
        "# file_path = r'/content/pima-indians-diabetes.data (1).csv'  # Original incorrect path\n",
        "file_path = r'/content/pima-indians-diabetes.data.csv'  # Corrected path - Assuming the original filename was 'pima-indians-diabetes.data.csv'\n",
        "column_names = ['Pregnancies', 'Glucose', 'BloodPressure', 'SkinThickness', 'Insulin', 'BMI', 'DiabetesPedigreeFunction', 'Age', 'Outcome']\n",
        "data = pd.read_csv(file_path, header=None, names=column_names)\n",
        "\n",
        "#Check the first few rows of the dataset\n",
        "print(data.head())\n",
        "\n",
        "#Split the data into features (x) and target(y)\n",
        "x = data.drop('Outcome', axis=1)\n",
        "y = data['Outcome']\n",
        "\n",
        "#Split the data into training and testing sets\n",
        "X_train, X_test, y_train, y_test = train_test_split(x, y, test_size=0.2, random_state=42)\n",
        "\n",
        "#Define the SVR model\n",
        "svr = SVR()"
      ],
      "metadata": {
        "colab": {
          "base_uri": "https://localhost:8080/"
        },
        "id": "cgZiHjQKC7r6",
        "outputId": "ccc2fc32-62d5-41ba-e8b6-b2a206848481"
      },
      "execution_count": 7,
      "outputs": [
        {
          "output_type": "stream",
          "name": "stdout",
          "text": [
            "   Pregnancies  Glucose  BloodPressure  SkinThickness  Insulin   BMI  \\\n",
            "0            6      148             72             35        0  33.6   \n",
            "1            1       85             66             29        0  26.6   \n",
            "2            8      183             64              0        0  23.3   \n",
            "3            1       89             66             23       94  28.1   \n",
            "4            0      137             40             35      168  43.1   \n",
            "\n",
            "   DiabetesPedigreeFunction  Age  Outcome  \n",
            "0                     0.627   50        1  \n",
            "1                     0.351   31        0  \n",
            "2                     0.672   32        1  \n",
            "3                     0.167   21        0  \n",
            "4                     2.288   33        1  \n"
          ]
        }
      ]
    },
    {
      "cell_type": "code",
      "source": [
        "##########Regression\n",
        "import pandas as pd\n",
        "import numpy as np\n",
        "from sklearn.model_selection import train_test_split,GridSearchCV\n",
        "from sklearn.svm import SVR\n",
        "from sklearn.metrics import mean_squared_error\n",
        "\n",
        "#Load the dataset\n",
        "file_path = r'/content/pima-indians-diabetes.data.csv'\n",
        "column_names = ['Pregnancies', 'Glucose', 'BloodPressure', 'SkinThickness', 'Insulin', 'BMI', 'DiabetesPedigreeFunction', 'Age', 'Outcome']\n",
        "data = pd.read_csv(file_path, header=None, names=column_names)\n",
        "\n",
        "#Check the first few rows of the dataset\n",
        "print(data.head())\n",
        "\n",
        "#Split the data into features (x) and target(y)\n",
        "x = data.drop('Outcome', axis=1)  #Features\n",
        "y = data['Outcome']  #target variable\n",
        "\n",
        "#Split the data into training and testing sets\n",
        "X_train, X_test, y_train, y_test = train_test_split(x, y, test_size=0.2, random_state=42)\n",
        "\n",
        "#Define the SVR model\n",
        "svr = SVR()\n",
        "\n",
        "#Define the parameter grid for hyperparameter tuning\n",
        "param_grid = {'C': [0.1, 1, 10],\n",
        "              'gamma': [0.01, 0.1, 1],\n",
        "              'kernel': ['rbf']\n",
        "        }\n",
        "\n",
        "#Perform grid search with 5-fold cross-validation\n",
        "grid_search = GridSearchCV(estimator = svr, param_grid = param_grid,cv=5, scoring = 'neg_mean_squared_error')\n",
        "grid_search.fit(X_train, y_train)\n",
        "\n",
        "#Get the best parameters and best score from the grid search\n",
        "print(\"Best parameters found: \", grid_search.best_params_)\n",
        "print(\"Best score found: \", grid_search.best_score_)\n",
        "\n",
        "#Get the best model from the grid search\n",
        "best_svr = grid_search.best_estimator_\n",
        "\n",
        "#Make predictions on the test set using the best model\n",
        "y_pred = best_svr.predict(X_test)\n",
        "\n",
        "#Evaluate the model using Mean Squared Error\n",
        "mse = mean_squared_error(y_test, y_pred)\n",
        "print(\"Mean Squared Error: \", mse)"
      ],
      "metadata": {
        "colab": {
          "base_uri": "https://localhost:8080/"
        },
        "id": "1NTgDaqhEoZW",
        "outputId": "cc37933b-7407-4d16-cb96-0ca7ba941162"
      },
      "execution_count": 11,
      "outputs": [
        {
          "output_type": "stream",
          "name": "stdout",
          "text": [
            "   Pregnancies  Glucose  BloodPressure  SkinThickness  Insulin   BMI  \\\n",
            "0            6      148             72             35        0  33.6   \n",
            "1            1       85             66             29        0  26.6   \n",
            "2            8      183             64              0        0  23.3   \n",
            "3            1       89             66             23       94  28.1   \n",
            "4            0      137             40             35      168  43.1   \n",
            "\n",
            "   DiabetesPedigreeFunction  Age  Outcome  \n",
            "0                     0.627   50        1  \n",
            "1                     0.351   31        0  \n",
            "2                     0.672   32        1  \n",
            "3                     0.167   21        0  \n",
            "4                     2.288   33        1  \n",
            "Best parameters found:  {'C': 1, 'gamma': 0.01, 'kernel': 'rbf'}\n",
            "Best score found:  -0.21802771323638895\n",
            "Mean Squared Error:  0.2217285631572842\n"
          ]
        }
      ]
    }
  ]
}