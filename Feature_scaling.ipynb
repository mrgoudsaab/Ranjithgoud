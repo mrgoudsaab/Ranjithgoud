{
  "nbformat": 4,
  "nbformat_minor": 0,
  "metadata": {
    "colab": {
      "provenance": [],
      "authorship_tag": "ABX9TyPhnFFaarxtxsc/+wkKufnW",
      "include_colab_link": true
    },
    "kernelspec": {
      "name": "python3",
      "display_name": "Python 3"
    },
    "language_info": {
      "name": "python"
    }
  },
  "cells": [
    {
      "cell_type": "markdown",
      "metadata": {
        "id": "view-in-github",
        "colab_type": "text"
      },
      "source": [
        "<a href=\"https://colab.research.google.com/github/mrgoudsaab/Ranjithgoud/blob/main/Feature_scaling.ipynb\" target=\"_parent\"><img src=\"https://colab.research.google.com/assets/colab-badge.svg\" alt=\"Open In Colab\"/></a>"
      ]
    },
    {
      "cell_type": "code",
      "execution_count": 1,
      "metadata": {
        "colab": {
          "base_uri": "https://localhost:8080/"
        },
        "id": "0V_HL2h9leQL",
        "outputId": "0b676f35-31e4-49f9-de0e-251a4ccab343"
      },
      "outputs": [
        {
          "output_type": "stream",
          "name": "stdout",
          "text": [
            "Original DataFrame:\n",
            "   customer_id  gender       city  fruits\n",
            "0            1    Male  Hyderabad   Apple\n",
            "1            2  Female       Pune  Orange\n",
            "2            3  Female  Bangalore    Kiwi\n",
            "3            4    Male     Mumbai  Banana\n",
            "\n",
            "DataFrame with One-Hot Encoded columns:\n",
            "   customer_id  gender_Female  gender_Male  city_Bangalore  city_Hyderabad  \\\n",
            "0            1            0.0          1.0             0.0             1.0   \n",
            "1            2            1.0          0.0             0.0             0.0   \n",
            "2            3            1.0          0.0             1.0             0.0   \n",
            "3            4            0.0          1.0             0.0             0.0   \n",
            "\n",
            "   city_Mumbai  city_Pune  fruits_Apple  fruits_Banana  fruits_Kiwi  \\\n",
            "0          0.0        0.0           1.0            0.0          0.0   \n",
            "1          0.0        1.0           0.0            0.0          0.0   \n",
            "2          0.0        0.0           0.0            0.0          1.0   \n",
            "3          1.0        0.0           0.0            1.0          0.0   \n",
            "\n",
            "   fruits_Orange  \n",
            "0            0.0  \n",
            "1            1.0  \n",
            "2            0.0  \n",
            "3            0.0  \n"
          ]
        }
      ],
      "source": [
        "import pandas as pd\n",
        "from sklearn.preprocessing import OneHotEncoder\n",
        "\n",
        "# Sample data\n",
        "data = {\n",
        "    \"customer_id\": [1, 2, 3, 4],\n",
        "    \"gender\": [\"Male\", \"Female\", \"Female\", \"Male\"],\n",
        "    \"city\": [\"Hyderabad\", \"Pune\", \"Bangalore\", \"Mumbai\"],\n",
        "    \"fruits\": [\"Apple\", \"Orange\", \"Kiwi\", \"Banana\"]\n",
        "}\n",
        "df = pd.DataFrame(data)\n",
        "print(\"Original DataFrame:\")\n",
        "print(df)\n",
        "\n",
        "# Initialize OneHotEncoder\n",
        "one_hot_encoder = OneHotEncoder(sparse_output=False)\n",
        "\n",
        "# Define columns to encode\n",
        "columns_to_encode = [\"gender\", \"city\", \"fruits\"]\n",
        "\n",
        "# Fit and transform the data\n",
        "encoded_data = one_hot_encoder.fit_transform(df[columns_to_encode])\n",
        "\n",
        "# Create a DataFrame with the encoded data\n",
        "encoded_df = pd.DataFrame(encoded_data, columns=one_hot_encoder.get_feature_names_out(columns_to_encode))\n",
        "\n",
        "# Concatenate the original DataFrame with the encoded DataFrame\n",
        "final_df = pd.concat([df, encoded_df], axis=1).drop(columns_to_encode, axis=1)\n",
        "print(\"\\nDataFrame with One-Hot Encoded columns:\")\n",
        "print(final_df)"
      ]
    },
    {
      "cell_type": "code",
      "source": [],
      "metadata": {
        "id": "mlL6Pg4su1jn"
      },
      "execution_count": null,
      "outputs": []
    }
  ]
}