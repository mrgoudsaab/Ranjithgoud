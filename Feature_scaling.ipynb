{
  "nbformat": 4,
  "nbformat_minor": 0,
  "metadata": {
    "colab": {
      "provenance": [],
      "authorship_tag": "ABX9TyOivIsLJsz6+klbPNsm/Kbs",
      "include_colab_link": true
    },
    "kernelspec": {
      "name": "python3",
      "display_name": "Python 3"
    },
    "language_info": {
      "name": "python"
    }
  },
  "cells": [
    {
      "cell_type": "markdown",
      "metadata": {
        "id": "view-in-github",
        "colab_type": "text"
      },
      "source": [
        "<a href=\"https://colab.research.google.com/github/mrgoudsaab/Ranjithgoud/blob/main/Feature_scaling.ipynb\" target=\"_parent\"><img src=\"https://colab.research.google.com/assets/colab-badge.svg\" alt=\"Open In Colab\"/></a>"
      ]
    },
    {
      "cell_type": "code",
      "execution_count": 1,
      "metadata": {
        "id": "X_l-ELFVgdxq",
        "colab": {
          "base_uri": "https://localhost:8080/"
        },
        "outputId": "59be3bd0-4bcb-49b4-dd51-9121291b8cfc"
      },
      "outputs": [
        {
          "output_type": "stream",
          "name": "stdout",
          "text": [
            "   age  height  weight\n",
            "0   25     170      60\n",
            "1   30     180      70\n",
            "2   35     190      80\n",
            "3   40     200      90\n",
            "\n",
            "Normalized DataFrame (scaled to range [0, 1]):\n",
            "        age    height    weight\n",
            "0  0.000000  0.000000  0.000000\n",
            "1  0.333333  0.333333  0.333333\n",
            "2  0.666667  0.666667  0.666667\n",
            "3  1.000000  1.000000  1.000000\n"
          ]
        }
      ],
      "source": [
        "import pandas as pd\n",
        "from sklearn.preprocessing import MinMaxScaler\n",
        "\n",
        "data = {\n",
        "    \"age\" : [25, 30, 35, 40],\n",
        "    \"height\" : [170, 180, 190, 200],\n",
        "    \"weight\" : [60, 70, 80, 90]\n",
        "}\n",
        "df = pd.DataFrame(data)\n",
        "print(df)\n",
        "\n",
        "scaler = MinMaxScaler()\n",
        "\n",
        "normalized_data = scaler.fit_transform(df)\n",
        "normalized_df = pd.DataFrame(normalized_data, columns=df.columns)\n",
        "print(\"\\nNormalized DataFrame (scaled to range [0, 1]):\")\n",
        "print(normalized_df)\n"
      ]
    },
    {
      "cell_type": "code",
      "source": [
        "import pandas as pd\n",
        "from sklearn.preprocessing import MinMaxScaler\n",
        "\n",
        "data = {\n",
        "    \"age\" : [25, 30, 35, 40],\n",
        "    \"height\" : [170, 180, 190, 200],\n",
        "    \"weight\" : [60, 70, 80, 90]\n",
        "}\n",
        "df = pd.DataFrame(data)\n",
        "print(df)\n",
        "\n",
        "scaler = MinMaxScaler()\n",
        "\n",
        "standardized_data = scaler.fit_transform(df)\n",
        "standardized_df = pd.DataFrame(standardized_data, columns=df.columns)\n",
        "print(\"\\nStandardized DataFrame (scaled to range [0, 1]):\")\n",
        "print(standardized_df)"
      ],
      "metadata": {
        "colab": {
          "base_uri": "https://localhost:8080/"
        },
        "id": "JANU-YqYmizh",
        "outputId": "044ad116-2d74-4c92-8131-ae81da79db4f"
      },
      "execution_count": 2,
      "outputs": [
        {
          "output_type": "stream",
          "name": "stdout",
          "text": [
            "   age  height  weight\n",
            "0   25     170      60\n",
            "1   30     180      70\n",
            "2   35     190      80\n",
            "3   40     200      90\n",
            "\n",
            "Standardized DataFrame (scaled to range [0, 1]):\n",
            "        age    height    weight\n",
            "0  0.000000  0.000000  0.000000\n",
            "1  0.333333  0.333333  0.333333\n",
            "2  0.666667  0.666667  0.666667\n",
            "3  1.000000  1.000000  1.000000\n"
          ]
        }
      ]
    },
    {
      "cell_type": "code",
      "source": [],
      "metadata": {
        "id": "ioT0DuuWmzrC"
      },
      "execution_count": null,
      "outputs": []
    }
  ]
}