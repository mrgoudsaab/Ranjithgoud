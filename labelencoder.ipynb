{
  "nbformat": 4,
  "nbformat_minor": 0,
  "metadata": {
    "colab": {
      "provenance": [],
      "authorship_tag": "ABX9TyOhA5dADXpslZBeD4lZcFHx",
      "include_colab_link": true
    },
    "kernelspec": {
      "name": "python3",
      "display_name": "Python 3"
    },
    "language_info": {
      "name": "python"
    }
  },
  "cells": [
    {
      "cell_type": "markdown",
      "metadata": {
        "id": "view-in-github",
        "colab_type": "text"
      },
      "source": [
        "<a href=\"https://colab.research.google.com/github/mrgoudsaab/Ranjithgoud/blob/main/labelencoder.ipynb\" target=\"_parent\"><img src=\"https://colab.research.google.com/assets/colab-badge.svg\" alt=\"Open In Colab\"/></a>"
      ]
    },
    {
      "cell_type": "code",
      "execution_count": 1,
      "metadata": {
        "colab": {
          "base_uri": "https://localhost:8080/"
        },
        "id": "4jOcwudtu-Nr",
        "outputId": "2acfd169-c079-44af-c5aa-48bbe4dc8fd9"
      },
      "outputs": [
        {
          "output_type": "stream",
          "name": "stdout",
          "text": [
            "Original DataFrame:\n",
            "   customer_id   Ranks      fruits\n",
            "0            1   first      orange\n",
            "1            2  second       apple\n",
            "2            3   third   pineapple\n",
            "3            4  fourth  watermelon\n",
            "\n",
            "DataFrame after encoding ranks with custom order:\n",
            "   customer_id  Ranks  fruits\n",
            "0            1      0       1\n",
            "1            2      2       0\n",
            "2            3      3       2\n",
            "3            4      1       3\n"
          ]
        }
      ],
      "source": [
        "import pandas as pd\n",
        "from sklearn.preprocessing import LabelEncoder\n",
        "\n",
        "data = {\n",
        "    \"customer_id\": [1, 2, 3, 4],\n",
        "    \"Ranks\": [\"first\", \"second\", \"third\", \"fourth\"],\n",
        "    \"fruits\": [\"orange\", \"apple\", \"pineapple\", \"watermelon\"]\n",
        "}\n",
        "\n",
        "df = pd.DataFrame(data)\n",
        "print(\"Original DataFrame:\")\n",
        "print(df)\n",
        "\n",
        "label_encoder = LabelEncoder()\n",
        "df[\"fruits\"] = label_encoder.fit_transform(df[\"fruits\"])\n",
        "df[\"Ranks\"] = label_encoder.fit_transform(df[\"Ranks\"])\n",
        "print(\"\\nDataFrame after encoding ranks with custom order:\")\n",
        "print(df)"
      ]
    }
  ]
}