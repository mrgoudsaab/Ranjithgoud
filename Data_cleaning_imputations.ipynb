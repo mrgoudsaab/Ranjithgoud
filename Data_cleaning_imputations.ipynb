{
  "nbformat": 4,
  "nbformat_minor": 0,
  "metadata": {
    "colab": {
      "provenance": [],
      "authorship_tag": "ABX9TyOKDJHiH1IdW7l/XpIsx0i7",
      "include_colab_link": true
    },
    "kernelspec": {
      "name": "python3",
      "display_name": "Python 3"
    },
    "language_info": {
      "name": "python"
    }
  },
  "cells": [
    {
      "cell_type": "markdown",
      "metadata": {
        "id": "view-in-github",
        "colab_type": "text"
      },
      "source": [
        "<a href=\"https://colab.research.google.com/github/mrgoudsaab/Ranjithgoud/blob/main/Data_cleaning_imputations.ipynb\" target=\"_parent\"><img src=\"https://colab.research.google.com/assets/colab-badge.svg\" alt=\"Open In Colab\"/></a>"
      ]
    },
    {
      "cell_type": "code",
      "source": [
        "import pandas as pd\n",
        "import numpy as np\n",
        "import warnings\n",
        "warnings.filterwarnings('ignore')\n",
        "\n",
        "data = {\n",
        "    'square_feet_area': [8500,9600,np.nan,11250,np.nan,9550,14260,np.nan,13830,11500],\n",
        "    'Year_built': [2003,1976,np.nan,np.nan,2000,1985,np.nan,2024,2025,2006],\n",
        "    'over_all_condition': ['Yes','No','yes','no','yes',np.nan,np.nan,'no','yes',np.nan],\n",
        "    'Sale_price': [200000,10000,250000,400000,600000,700000,80000,40000,60000,356000]\n",
        "\n",
        "}\n",
        "\n",
        "df = pd.DataFrame(data)\n",
        "print(df)\n"
      ],
      "metadata": {
        "colab": {
          "base_uri": "https://localhost:8080/"
        },
        "id": "s4PH9jqjnaZe",
        "outputId": "25af3f3c-85ce-4a67-d245-a25dc338863e"
      },
      "execution_count": 12,
      "outputs": [
        {
          "output_type": "stream",
          "name": "stdout",
          "text": [
            "   square_feet_area  Year_built over_all_condition  Sale_price\n",
            "0            8500.0      2003.0                Yes      200000\n",
            "1            9600.0      1976.0                 No       10000\n",
            "2               NaN         NaN                yes      250000\n",
            "3           11250.0         NaN                 no      400000\n",
            "4               NaN      2000.0                yes      600000\n",
            "5            9550.0      1985.0                NaN      700000\n",
            "6           14260.0         NaN                NaN       80000\n",
            "7               NaN      2024.0                 no       40000\n",
            "8           13830.0      2025.0                yes       60000\n",
            "9           11500.0      2006.0                NaN      356000\n"
          ]
        }
      ]
    },
    {
      "cell_type": "code",
      "source": [
        "df['square_feet_area'].fillna(df['square_feet_area'].mean(), inplace=True)\n",
        "df['Year_built'].fillna(df['Year_built'].mean(), inplace=True)\n",
        "df['over_all_condition'].fillna(df['over_all_condition'].mode()[0], inplace=True)\n",
        "\n",
        "df = df.dropna()\n",
        "\n",
        "print(df)"
      ],
      "metadata": {
        "colab": {
          "base_uri": "https://localhost:8080/"
        },
        "id": "uLmLgQhXt7kA",
        "outputId": "e5b8e182-b039-4b50-ef0d-e0b7fa0cd36a"
      },
      "execution_count": 13,
      "outputs": [
        {
          "output_type": "stream",
          "name": "stdout",
          "text": [
            "   square_feet_area   Year_built over_all_condition  Sale_price\n",
            "0       8500.000000  2003.000000                Yes      200000\n",
            "1       9600.000000  1976.000000                 No       10000\n",
            "2      11212.857143  2002.714286                yes      250000\n",
            "3      11250.000000  2002.714286                 no      400000\n",
            "4      11212.857143  2000.000000                yes      600000\n",
            "5       9550.000000  1985.000000                yes      700000\n",
            "6      14260.000000  2002.714286                yes       80000\n",
            "7      11212.857143  2024.000000                 no       40000\n",
            "8      13830.000000  2025.000000                yes       60000\n",
            "9      11500.000000  2006.000000                yes      356000\n"
          ]
        }
      ]
    },
    {
      "cell_type": "code",
      "source": [],
      "metadata": {
        "id": "5TZ5utHzvACi"
      },
      "execution_count": null,
      "outputs": []
    }
  ]
}