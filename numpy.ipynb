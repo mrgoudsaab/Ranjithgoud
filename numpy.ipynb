{
  "nbformat": 4,
  "nbformat_minor": 0,
  "metadata": {
    "colab": {
      "provenance": [],
      "authorship_tag": "ABX9TyMFUggCu8Y6QE7sG0s5uD2W",
      "include_colab_link": true
    },
    "kernelspec": {
      "name": "python3",
      "display_name": "Python 3"
    },
    "language_info": {
      "name": "python"
    }
  },
  "cells": [
    {
      "cell_type": "markdown",
      "metadata": {
        "id": "view-in-github",
        "colab_type": "text"
      },
      "source": [
        "<a href=\"https://colab.research.google.com/github/mrgoudsaab/Ranjithgoud/blob/main/numpy.ipynb\" target=\"_parent\"><img src=\"https://colab.research.google.com/assets/colab-badge.svg\" alt=\"Open In Colab\"/></a>"
      ]
    },
    {
      "cell_type": "code",
      "execution_count": null,
      "metadata": {
        "colab": {
          "base_uri": "https://localhost:8080/"
        },
        "id": "PSZ-0NfNmpDS",
        "outputId": "9926de72-d7ff-4722-a4c3-ca9190af0c90"
      },
      "outputs": [
        {
          "output_type": "stream",
          "name": "stdout",
          "text": [
            "[[ 1  2  3  4  5]\n",
            " [ 6  7  8  9 10]\n",
            " [ 2 12 23 10 89]]\n",
            "0th element on 2nd row:  89\n"
          ]
        }
      ],
      "source": [
        "import numpy as np\n",
        "\n",
        "arr = np.array([[1,2,3,4,5], [6,7,8,9,10],[2,12,23,10,89]])\n",
        "print(arr)\n",
        "print('0th element on 2nd row: ', arr[2,4])"
      ]
    },
    {
      "cell_type": "code",
      "source": [
        "import numpy as np\n",
        "\n",
        "arr = np.array([[1,2,3], [4,5,6], [7,8,9], [10,11,12]])\n",
        "print(arr)\n",
        "print(arr[1,1,])"
      ],
      "metadata": {
        "colab": {
          "base_uri": "https://localhost:8080/"
        },
        "id": "KfrIzE_SocSZ",
        "outputId": "eead5f82-a717-44de-abff-c83f4ca72d52"
      },
      "execution_count": null,
      "outputs": [
        {
          "output_type": "stream",
          "name": "stdout",
          "text": [
            "[[ 1  2  3]\n",
            " [ 4  5  6]\n",
            " [ 7  8  9]\n",
            " [10 11 12]]\n",
            "5\n"
          ]
        }
      ]
    },
    {
      "cell_type": "code",
      "source": [
        "import pandas as pd\n",
        "\n",
        "sales_data = {\n",
        "   'TransactionID' : [1, 2, 3, 4, 5],\n",
        "   'CustomerID' : [101, 102, 103, 104, 101],\n",
        "   'Amount' : [250, 300, 400, 500, 600],\n",
        "   'Date' : ['2025-01-01', '2025-01-02', '2025-01-03', '2025-01-04', '2025-01-05']\n",
        "}\n",
        "customer_data = {\n",
        "     'CustomerID' : [101, 102, 103, 104],\n",
        "     'CustomerName' : ['Alice', 'Bob', 'Charlie', 'David'],\n",
        "     'Age' : [30, 35, 40, 25],\n",
        "     'City' : ['New York', 'Los Angeles', 'Chicago', 'Houston']\n",
        "}\n",
        "sales_df = pd.DataFrame(sales_data)\n",
        "customer_data = pd.DataFrame(customer_data)\n",
        "print(sales_df)\n",
        "print(customer_data)\n",
        "print(\"Shape of sales data:\", sales_df.shape)\n",
        "print(\"Sales data statistics:\")\n",
        "print(sales_df.describe())\n",
        "print(\"Sales dataframe\",sales_df)\n",
        "print(\"customer_df\",customer_data)\n"
      ],
      "metadata": {
        "colab": {
          "base_uri": "https://localhost:8080/"
        },
        "id": "Oj0LK_YhsSAP",
        "outputId": "2c8fcc56-4d42-40fe-fd4b-b2ae96ec408c"
      },
      "execution_count": null,
      "outputs": [
        {
          "output_type": "stream",
          "name": "stdout",
          "text": [
            "   TransactionID  CustomerID  Amount        Date\n",
            "0              1         101     250  2025-01-01\n",
            "1              2         102     300  2025-01-02\n",
            "2              3         103     400  2025-01-03\n",
            "3              4         104     500  2025-01-04\n",
            "4              5         101     600  2025-01-05\n",
            "   CustomerID CustomerName  Age         City\n",
            "0         101        Alice   30     New York\n",
            "1         102          Bob   35  Los Angeles\n",
            "2         103      Charlie   40      Chicago\n",
            "3         104        David   25      Houston\n",
            "Shape of sales data: (5, 4)\n",
            "Sales data statistics:\n",
            "       TransactionID  CustomerID      Amount\n",
            "count       5.000000     5.00000    5.000000\n",
            "mean        3.000000   102.20000  410.000000\n",
            "std         1.581139     1.30384  143.178211\n",
            "min         1.000000   101.00000  250.000000\n",
            "25%         2.000000   101.00000  300.000000\n",
            "50%         3.000000   102.00000  400.000000\n",
            "75%         4.000000   103.00000  500.000000\n",
            "max         5.000000   104.00000  600.000000\n",
            "Sales dataframe    TransactionID  CustomerID  Amount        Date\n",
            "0              1         101     250  2025-01-01\n",
            "1              2         102     300  2025-01-02\n",
            "2              3         103     400  2025-01-03\n",
            "3              4         104     500  2025-01-04\n",
            "4              5         101     600  2025-01-05\n",
            "customer_df    CustomerID CustomerName  Age         City\n",
            "0         101        Alice   30     New York\n",
            "1         102          Bob   35  Los Angeles\n",
            "2         103      Charlie   40      Chicago\n",
            "3         104        David   25      Houston\n"
          ]
        }
      ]
    }
  ]
}